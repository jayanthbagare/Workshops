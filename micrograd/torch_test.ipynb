{
 "cells": [
  {
   "cell_type": "code",
   "execution_count": 4,
   "id": "2b204bbe-fe8c-4ccf-acd7-6d97f3f07e8b",
   "metadata": {},
   "outputs": [],
   "source": [
    "import torch\n",
    "import math"
   ]
  },
  {
   "cell_type": "code",
   "execution_count": 14,
   "id": "4f8761a4-4496-4884-86b2-ca119b87a7d1",
   "metadata": {},
   "outputs": [],
   "source": [
    "w1 = torch.tensor([10.0]).double()               ; w1.requires_grad = True\n",
    "w2 = torch.tensor([-9.1999999999]).double()      ; w2.requires_grad = True\n",
    "x1 = torch.tensor([2.0]).double()                ; x1.requires_grad = True\n",
    "x2 = torch.tensor([3.0]).double()                ; x2.requires_grad = True\n",
    "b = torch.tensor([6.881313]).double()            ; b.requires_grad = True"
   ]
  },
  {
   "cell_type": "code",
   "execution_count": 15,
   "id": "bd0a2499-d6c0-4ba8-89f6-0a6949abfaa6",
   "metadata": {},
   "outputs": [],
   "source": [
    "pre = (w1*x1 + w2*x2) + b"
   ]
  },
  {
   "cell_type": "code",
   "execution_count": 18,
   "id": "ef25971b-cd42-4adc-a331-9e787a5e927f",
   "metadata": {},
   "outputs": [],
   "source": [
    "y_hat = torch.tanh(pre)"
   ]
  },
  {
   "cell_type": "code",
   "execution_count": 20,
   "id": "6ec9c147-617d-4f97-8969-0735275eab90",
   "metadata": {},
   "outputs": [],
   "source": [
    "y_hat.backward()"
   ]
  },
  {
   "cell_type": "code",
   "execution_count": 21,
   "id": "003c13d9-ba85-4b27-b61f-fc8e53f3076b",
   "metadata": {},
   "outputs": [
    {
     "name": "stdout",
     "output_type": "stream",
     "text": [
      "x1 grad 6.204268504526117\n",
      "w1 grad 1.2408537009052234\n",
      "x2 grad -5.707926905826997\n",
      "w2 grad 1.8612805513578352\n"
     ]
    }
   ],
   "source": [
    "print('x1 grad', x1.grad.item())\n",
    "print('w1 grad', w1.grad.item())\n",
    "print('x2 grad', x2.grad.item())\n",
    "print('w2 grad', w2.grad.item())"
   ]
  },
  {
   "cell_type": "code",
   "execution_count": null,
   "id": "b128587c-c429-4020-a150-00f98c7a2504",
   "metadata": {},
   "outputs": [],
   "source": []
  }
 ],
 "metadata": {
  "kernelspec": {
   "display_name": "Python 3 (ipykernel)",
   "language": "python",
   "name": "python3"
  },
  "language_info": {
   "codemirror_mode": {
    "name": "ipython",
    "version": 3
   },
   "file_extension": ".py",
   "mimetype": "text/x-python",
   "name": "python",
   "nbconvert_exporter": "python",
   "pygments_lexer": "ipython3",
   "version": "3.10.9"
  }
 },
 "nbformat": 4,
 "nbformat_minor": 5
}
