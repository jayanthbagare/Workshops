{
 "cells": [
  {
   "cell_type": "code",
   "execution_count": 1,
   "id": "d55c488e-53e4-4229-a59c-4148476ec5c6",
   "metadata": {},
   "outputs": [],
   "source": [
    "words = open('names.csv','r').read().splitlines()"
   ]
  },
  {
   "cell_type": "code",
   "execution_count": 2,
   "id": "1d3745ba-6513-4a20-a152-6b709cbdbbca",
   "metadata": {},
   "outputs": [
    {
     "data": {
      "text/plain": [
       "['aa',\n",
       " 'aaban',\n",
       " 'aabid',\n",
       " 'aabida',\n",
       " 'aabidah',\n",
       " 'aabir',\n",
       " 'aabriella',\n",
       " 'aachal',\n",
       " 'aada',\n",
       " 'aadam']"
      ]
     },
     "execution_count": 2,
     "metadata": {},
     "output_type": "execute_result"
    }
   ],
   "source": [
    "words[:10]"
   ]
  },
  {
   "cell_type": "code",
   "execution_count": 3,
   "id": "22908bc9-bbe8-4984-a7b5-3f1fec3d7c99",
   "metadata": {},
   "outputs": [],
   "source": [
    "b = {}\n",
    "for w in words:\n",
    "    chs = ['<S>'] + list(w) + ['<E>'] \n",
    "    for ch1,ch2 in zip(chs,chs[1:]):\n",
    "        bigram = (ch1,ch2)\n",
    "        b[bigram] = b.get(bigram,0) + 1 "
   ]
  },
  {
   "cell_type": "code",
   "execution_count": 4,
   "id": "2213591d-abed-4ac7-ad49-7c8dc8e0ad25",
   "metadata": {},
   "outputs": [],
   "source": [
    "sb = dict(sorted(b.items(),key=lambda x:x[1],reverse=True))"
   ]
  },
  {
   "cell_type": "code",
   "execution_count": 5,
   "id": "ff0903eb-95f6-4d2b-a2c9-d3cab27efda8",
   "metadata": {},
   "outputs": [],
   "source": [
    "import torch"
   ]
  },
  {
   "cell_type": "code",
   "execution_count": 6,
   "id": "bb25f9a2-abc9-436f-947e-083d7c2c6f1c",
   "metadata": {},
   "outputs": [],
   "source": [
    "N = torch.zeros((28,28),dtype=torch.int32)"
   ]
  },
  {
   "cell_type": "code",
   "execution_count": null,
   "id": "43339a83-e79e-42b6-82e8-94cf92c977ca",
   "metadata": {},
   "outputs": [],
   "source": []
  }
 ],
 "metadata": {
  "kernelspec": {
   "display_name": "Python 3 (ipykernel)",
   "language": "python",
   "name": "python3"
  },
  "language_info": {
   "codemirror_mode": {
    "name": "ipython",
    "version": 3
   },
   "file_extension": ".py",
   "mimetype": "text/x-python",
   "name": "python",
   "nbconvert_exporter": "python",
   "pygments_lexer": "ipython3",
   "version": "3.11.2"
  }
 },
 "nbformat": 4,
 "nbformat_minor": 5
}
