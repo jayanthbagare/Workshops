{
 "cells": [
  {
   "cell_type": "code",
   "execution_count": 208,
   "id": "11b57a2f-5553-4ff1-ba06-cac14f6c7c5a",
   "metadata": {},
   "outputs": [],
   "source": [
    "import math\n",
    "from graphviz import Digraph\n",
    "global exp"
   ]
  },
  {
   "cell_type": "code",
   "execution_count": 209,
   "id": "9b5d4f0c-a673-4d65-8d25-5fc16c3b0dc9",
   "metadata": {},
   "outputs": [],
   "source": [
    "exp = math.e"
   ]
  },
  {
   "cell_type": "code",
   "execution_count": 210,
   "id": "8a47d023-643a-46f2-9ae3-bb1a60015033",
   "metadata": {},
   "outputs": [],
   "source": [
    "#GraphViz functionality\n",
    "def trace(root):\n",
    "    nodes, edges = set(), set()\n",
    "    def build(v):\n",
    "        if v not in nodes:\n",
    "            nodes.add(v)\n",
    "            for child in v._prev:\n",
    "                edges.add((child, v))\n",
    "                build(child)\n",
    "    build(root)\n",
    "    return nodes, edges\n",
    "\n",
    "def draw_dot(root, format='svg', rankdir='LR'):\n",
    "    \"\"\"\n",
    "    format: png | svg | ...\n",
    "    rankdir: TB (top to bottom graph) | LR (left to right)\n",
    "    \"\"\"\n",
    "    assert rankdir in ['LR', 'TB']\n",
    "    nodes, edges = trace(root)\n",
    "    dot = Digraph(format=format, graph_attr={'rankdir': rankdir}) #, node_attr={'rankdir': 'TB'})\n",
    "    \n",
    "    for n in nodes:\n",
    "        dot.node(name=str(id(n)), label = \"{ %s | data %.4f | grad %.4f}\" % (n.label,n.data,n.grad), shape='record')\n",
    "        if n._op:\n",
    "            dot.node(name=str(id(n)) + n._op, label=n._op)\n",
    "            dot.edge(str(id(n)) + n._op, str(id(n)))\n",
    "    \n",
    "    for n1, n2 in edges:\n",
    "        dot.edge(str(id(n1)), str(id(n2)) + n2._op)\n",
    "    \n",
    "    return dot"
   ]
  },
  {
   "cell_type": "code",
   "execution_count": 211,
   "id": "4f499aa1-d4da-4e90-8b79-2cc2042d1ee6",
   "metadata": {},
   "outputs": [],
   "source": [
    "class Value():\n",
    "    def __init__(self,data,_children=(),_op='',label=''):\n",
    "        self.data = data\n",
    "        self._prev = set(_children)\n",
    "        self._op = _op\n",
    "        self.label = label\n",
    "        self.grad = 0.0\n",
    "        \n",
    "    def __repr__(self):\n",
    "        return f\"Value({self.data})\"\n",
    "    \n",
    "    def __add__(self,other):\n",
    "        out = Value(self.data + other.data,(self,other),'+')\n",
    "        return out\n",
    "    \n",
    "    def __mul__(self,other):\n",
    "        out = Value(self.data * other.data,(self,other),'*')\n",
    "        return out\n",
    "    \n",
    "    def __sub__(self,other):\n",
    "        out = Value(self.data + (-other.data),(self,other),'-')\n",
    "        return out\n",
    "    \n",
    "    def __truediv__(self, other): # self / other\n",
    "        return self * other**-1\n",
    "    \n",
    "    def __pow__(self,other):\n",
    "        out = Value(self.data**other,(self,), f'**{other}')\n",
    "        return out\n",
    "    \n",
    "    def tanh(self):\n",
    "        #e^2x -1/e^2x + 1\n",
    "        # top = exp**(2*self.data) - 1\n",
    "        # bot = exp**(2*self.data) + 1\n",
    "        tanh = math.tanh(self.data)\n",
    "        out = Value(tanh,(self,),'tanh')\n",
    "        return out\n",
    "    \n",
    "    def relu(self):\n",
    "        if(self.data<0):\n",
    "            out = 0\n",
    "        else:\n",
    "            out = self.data\n",
    "        return out"
   ]
  },
  {
   "cell_type": "markdown",
   "id": "efd8d82c-9f39-4012-bfc3-460a1a877c76",
   "metadata": {},
   "source": [
    "$$ y = \\sum(w_i.x_i) + bias$$"
   ]
  },
  {
   "cell_type": "code",
   "execution_count": 212,
   "id": "987cd0e1-a0e8-478e-aba4-46e5872bd76f",
   "metadata": {},
   "outputs": [],
   "source": [
    "x1 = Value(2.0,label='x1')\n",
    "x2 = Value(3.0,label='x2')\n",
    "w1 = Value(1.0,label='w1')\n",
    "w2 = Value(-1.0,label='w2')\n",
    "b = Value(6.0,label='b')"
   ]
  },
  {
   "cell_type": "code",
   "execution_count": 213,
   "id": "6ee39a8b-ba14-4a4d-aa97-de35e8c7f5f1",
   "metadata": {},
   "outputs": [],
   "source": [
    "w1x1 = w1 * x1\n",
    "w1x1.label = 'w1*x1'"
   ]
  },
  {
   "cell_type": "code",
   "execution_count": 214,
   "id": "16223f88-518a-48d1-86de-87d16fe739f3",
   "metadata": {},
   "outputs": [],
   "source": [
    "w2x2 = w2 * x2\n",
    "w2x2.label = 'w2*x2'"
   ]
  },
  {
   "cell_type": "code",
   "execution_count": 215,
   "id": "becba079-3cc7-47a6-86ce-25b92cfb83f8",
   "metadata": {},
   "outputs": [],
   "source": [
    "wsum = w1x1 + w2x2\n",
    "wsum.label = 'sum'"
   ]
  },
  {
   "cell_type": "code",
   "execution_count": 216,
   "id": "4940603a-a390-4bd2-a7ef-0da95d2d05c7",
   "metadata": {},
   "outputs": [],
   "source": [
    "pre = wsum + b\n",
    "pre.label = 'bias'"
   ]
  },
  {
   "cell_type": "code",
   "execution_count": 221,
   "id": "ac75cb50-5af8-452f-a32a-b36853c0fe4b",
   "metadata": {},
   "outputs": [
    {
     "data": {
      "text/plain": [
       "Value(-0.7615941559557649)"
      ]
     },
     "execution_count": 221,
     "metadata": {},
     "output_type": "execute_result"
    }
   ],
   "source": [
    "act = wsum.tanh()\n",
    "act.label='act'\n",
    "act"
   ]
  },
  {
   "cell_type": "code",
   "execution_count": 218,
   "id": "2f66ce5d-28bd-4634-94a5-c40fde3a5988",
   "metadata": {},
   "outputs": [],
   "source": [
    "y_hat = act\n",
    "y_hat = 'yhat'"
   ]
  },
  {
   "cell_type": "code",
   "execution_count": 220,
   "id": "f2eaf289-6158-4568-ab72-e52ea04e5535",
   "metadata": {},
   "outputs": [
    {
     "ename": "AttributeError",
     "evalue": "'str' object has no attribute '_prev'",
     "output_type": "error",
     "traceback": [
      "\u001b[0;31m---------------------------------------------------------------------------\u001b[0m",
      "\u001b[0;31mAttributeError\u001b[0m                            Traceback (most recent call last)",
      "Cell \u001b[0;32mIn[220], line 1\u001b[0m\n\u001b[0;32m----> 1\u001b[0m \u001b[43mdraw_dot\u001b[49m\u001b[43m(\u001b[49m\u001b[43my_hat\u001b[49m\u001b[43m)\u001b[49m\n",
      "Cell \u001b[0;32mIn[210], line 19\u001b[0m, in \u001b[0;36mdraw_dot\u001b[0;34m(root, format, rankdir)\u001b[0m\n\u001b[1;32m     14\u001b[0m \u001b[38;5;124;03m\"\"\"\u001b[39;00m\n\u001b[1;32m     15\u001b[0m \u001b[38;5;124;03mformat: png | svg | ...\u001b[39;00m\n\u001b[1;32m     16\u001b[0m \u001b[38;5;124;03mrankdir: TB (top to bottom graph) | LR (left to right)\u001b[39;00m\n\u001b[1;32m     17\u001b[0m \u001b[38;5;124;03m\"\"\"\u001b[39;00m\n\u001b[1;32m     18\u001b[0m \u001b[38;5;28;01massert\u001b[39;00m rankdir \u001b[38;5;129;01min\u001b[39;00m [\u001b[38;5;124m'\u001b[39m\u001b[38;5;124mLR\u001b[39m\u001b[38;5;124m'\u001b[39m, \u001b[38;5;124m'\u001b[39m\u001b[38;5;124mTB\u001b[39m\u001b[38;5;124m'\u001b[39m]\n\u001b[0;32m---> 19\u001b[0m nodes, edges \u001b[38;5;241m=\u001b[39m \u001b[43mtrace\u001b[49m\u001b[43m(\u001b[49m\u001b[43mroot\u001b[49m\u001b[43m)\u001b[49m\n\u001b[1;32m     20\u001b[0m dot \u001b[38;5;241m=\u001b[39m Digraph(\u001b[38;5;28mformat\u001b[39m\u001b[38;5;241m=\u001b[39m\u001b[38;5;28mformat\u001b[39m, graph_attr\u001b[38;5;241m=\u001b[39m{\u001b[38;5;124m'\u001b[39m\u001b[38;5;124mrankdir\u001b[39m\u001b[38;5;124m'\u001b[39m: rankdir}) \u001b[38;5;66;03m#, node_attr={'rankdir': 'TB'})\u001b[39;00m\n\u001b[1;32m     22\u001b[0m \u001b[38;5;28;01mfor\u001b[39;00m n \u001b[38;5;129;01min\u001b[39;00m nodes:\n",
      "Cell \u001b[0;32mIn[210], line 10\u001b[0m, in \u001b[0;36mtrace\u001b[0;34m(root)\u001b[0m\n\u001b[1;32m      8\u001b[0m             edges\u001b[38;5;241m.\u001b[39madd((child, v))\n\u001b[1;32m      9\u001b[0m             build(child)\n\u001b[0;32m---> 10\u001b[0m \u001b[43mbuild\u001b[49m\u001b[43m(\u001b[49m\u001b[43mroot\u001b[49m\u001b[43m)\u001b[49m\n\u001b[1;32m     11\u001b[0m \u001b[38;5;28;01mreturn\u001b[39;00m nodes, edges\n",
      "Cell \u001b[0;32mIn[210], line 7\u001b[0m, in \u001b[0;36mtrace.<locals>.build\u001b[0;34m(v)\u001b[0m\n\u001b[1;32m      5\u001b[0m \u001b[38;5;28;01mif\u001b[39;00m v \u001b[38;5;129;01mnot\u001b[39;00m \u001b[38;5;129;01min\u001b[39;00m nodes:\n\u001b[1;32m      6\u001b[0m     nodes\u001b[38;5;241m.\u001b[39madd(v)\n\u001b[0;32m----> 7\u001b[0m     \u001b[38;5;28;01mfor\u001b[39;00m child \u001b[38;5;129;01min\u001b[39;00m \u001b[43mv\u001b[49m\u001b[38;5;241;43m.\u001b[39;49m\u001b[43m_prev\u001b[49m:\n\u001b[1;32m      8\u001b[0m         edges\u001b[38;5;241m.\u001b[39madd((child, v))\n\u001b[1;32m      9\u001b[0m         build(child)\n",
      "\u001b[0;31mAttributeError\u001b[0m: 'str' object has no attribute '_prev'"
     ]
    }
   ],
   "source": [
    "draw_dot(y_hat)"
   ]
  },
  {
   "cell_type": "code",
   "execution_count": null,
   "id": "ec8d5a2e-2e1d-46a2-aed4-bc87d4a6a43d",
   "metadata": {},
   "outputs": [],
   "source": []
  },
  {
   "cell_type": "code",
   "execution_count": null,
   "id": "73145fe7-7c18-4e14-bd93-2b9c48f2cffe",
   "metadata": {},
   "outputs": [],
   "source": []
  },
  {
   "cell_type": "code",
   "execution_count": null,
   "id": "e66590e8-a18e-4194-8928-492241661ead",
   "metadata": {},
   "outputs": [],
   "source": []
  }
 ],
 "metadata": {
  "kernelspec": {
   "display_name": "Python 3 (ipykernel)",
   "language": "python",
   "name": "python3"
  },
  "language_info": {
   "codemirror_mode": {
    "name": "ipython",
    "version": 3
   },
   "file_extension": ".py",
   "mimetype": "text/x-python",
   "name": "python",
   "nbconvert_exporter": "python",
   "pygments_lexer": "ipython3",
   "version": "3.10.9"
  }
 },
 "nbformat": 4,
 "nbformat_minor": 5
}
