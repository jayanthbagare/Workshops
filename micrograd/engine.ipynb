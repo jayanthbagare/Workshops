{
 "cells": [
  {
   "cell_type": "code",
   "execution_count": 396,
   "id": "11b57a2f-5553-4ff1-ba06-cac14f6c7c5a",
   "metadata": {},
   "outputs": [],
   "source": [
    "import math\n",
    "import numpy as np\n",
    "from graphviz import Digraph\n",
    "from activation_functions import activations as act\n",
    "global exp"
   ]
  },
  {
   "cell_type": "code",
   "execution_count": 397,
   "id": "9b5d4f0c-a673-4d65-8d25-5fc16c3b0dc9",
   "metadata": {},
   "outputs": [],
   "source": [
    "exp = math.e"
   ]
  },
  {
   "cell_type": "code",
   "execution_count": 398,
   "id": "8a47d023-643a-46f2-9ae3-bb1a60015033",
   "metadata": {},
   "outputs": [],
   "source": [
    "#GraphViz functionality\n",
    "def trace(root):\n",
    "    nodes, edges = set(), set()\n",
    "    def build(v):\n",
    "        if v not in nodes:\n",
    "            nodes.add(v)\n",
    "            for child in v._prev:\n",
    "                edges.add((child, v))\n",
    "                build(child)\n",
    "    build(root)\n",
    "    return nodes, edges\n",
    "\n",
    "def draw_dot(root, format='svg', rankdir='LR'):\n",
    "    \"\"\"\n",
    "    format: png | svg | ...\n",
    "    rankdir: TB (top to bottom graph) | LR (left to right)\n",
    "    \"\"\"\n",
    "    assert rankdir in ['LR', 'TB']\n",
    "    nodes, edges = trace(root)\n",
    "    dot = Digraph(format=format, graph_attr={'rankdir': rankdir}) #, node_attr={'rankdir': 'TB'})\n",
    "    \n",
    "    for n in nodes:\n",
    "        dot.node(name=str(id(n)), label = \"{ %s | data %.4f | grad %.4f}\" % (n.label,n.data,n.grad), shape='record')\n",
    "        if n._op:\n",
    "            dot.node(name=str(id(n)) + n._op, label=n._op)\n",
    "            dot.edge(str(id(n)) + n._op, str(id(n)))\n",
    "    \n",
    "    for n1, n2 in edges:\n",
    "        dot.edge(str(id(n1)), str(id(n2)) + n2._op)\n",
    "    \n",
    "    return dot"
   ]
  },
  {
   "cell_type": "code",
   "execution_count": 399,
   "id": "4f499aa1-d4da-4e90-8b79-2cc2042d1ee6",
   "metadata": {},
   "outputs": [],
   "source": [
    "class Value():\n",
    "    def __init__(self,data,_children=(),_op='',label=''):\n",
    "        self.data = data\n",
    "        self.grad = 0.0\n",
    "        self._backward = lambda : None\n",
    "        self._prev = set(_children)\n",
    "        self._op = _op\n",
    "        self.label = label\n",
    "        self.grad = 0.0\n",
    "        \n",
    "    def __repr__(self):\n",
    "        return f\"Value({self.data})\"\n",
    "    \n",
    "    def __add__(self,other):\n",
    "        other = other if isinstance(other, Value) else Value(other)\n",
    "        out = Value(self.data + other.data, (self, other), '+')\n",
    "\n",
    "        def _backward():\n",
    "            self.grad += out.grad\n",
    "            other.grad += out.grad\n",
    "            \n",
    "        out._backward = _backward\n",
    "        return out\n",
    "    \n",
    "    def __mul__(self,other):\n",
    "        other = other if isinstance(other, Value) else Value(other)\n",
    "        out = Value(self.data * other.data,(self,other),'*')\n",
    "        \n",
    "        def _backward():\n",
    "            self.grad += other.data * out.grad\n",
    "            other.grad += self.data * out.grad\n",
    "        out._backward = _backward\n",
    "        return out\n",
    "    \n",
    "    def __sub__(self,other):\n",
    "        other = other if isinstance(other, Value) else Value(other)\n",
    "        out = Value(self.data + (-other.data),(self,other),'-')\n",
    "        return out\n",
    "    \n",
    "    def __truediv__(self, other): # self / other\n",
    "        return self * other**-1\n",
    "    \n",
    "    def __pow__(self,other):\n",
    "        other = other if isinstance(other, Value) else Value(other)\n",
    "        out = Value(self.data**other.data, (self,), f'**{other.data}')\n",
    "\n",
    "        def _backward():\n",
    "            self.grad += (other * self.data**(other-1)) * out.grad\n",
    "        out._backward = _backward\n",
    "        \n",
    "        return out\n",
    "    \n",
    "    def tanh(self):\n",
    "        #e^2x -1/e^2x + 1\n",
    "        top = exp**(2*self.data) - 1\n",
    "        bot = exp**(2*self.data) + 1\n",
    "        tanh = top/bot\n",
    "        out = Value(tanh,(self,),'tanh')\n",
    "        \n",
    "        def _backward():\n",
    "            self.grad += (1-tanh**2) * out.grad\n",
    "        \n",
    "        out._backward = _backward\n",
    "        return out\n",
    "    \n",
    "    def relu(self):\n",
    "        out = Value(0 if self.data < 0 else self.data, (self,), 'ReLU')\n",
    "            \n",
    "        def _backward():\n",
    "            self.grad += (out.grad > 0) * out.grad\n",
    "            \n",
    "        out._backward = _backward\n",
    "        return out\n",
    "    \n",
    "    def backward(self):\n",
    "        topo = []\n",
    "        visited = set()\n",
    "        def build_topo(v):\n",
    "            if v not in visited:\n",
    "                visited.add(v)\n",
    "                for child in v._prev:\n",
    "                    build_topo(child)\n",
    "                topo.append(v)\n",
    "        build_topo(self)\n",
    "\n",
    "        # go one variable at a time and apply the chain rule to get its gradient\n",
    "        self.grad = 1\n",
    "        for v in reversed(topo):\n",
    "            v._backward()"
   ]
  },
  {
   "cell_type": "markdown",
   "id": "efd8d82c-9f39-4012-bfc3-460a1a877c76",
   "metadata": {},
   "source": [
    "### The basic neural network can be represented as\n",
    "## $$ \\hat{y} = \\sum(w_i.x_i) + bias$$\n",
    "#### Where\n",
    "#### x is the input feature\n",
    "#### w is the respective weight for the input feature\n",
    "#### b is the added bias\n",
    "#### tanh is the activation function to add non linearity"
   ]
  },
  {
   "cell_type": "code",
   "execution_count": 400,
   "id": "987cd0e1-a0e8-478e-aba4-46e5872bd76f",
   "metadata": {},
   "outputs": [],
   "source": [
    "x1 = Value(2.0,label='x1')\n",
    "x2 = Value(3.0,label='x2')\n",
    "w1 = Value(10.0,label='w1')\n",
    "w2 = Value(-9.1999999999,label='w2')\n",
    "b = Value(6.881313,label='b')"
   ]
  },
  {
   "cell_type": "code",
   "execution_count": 401,
   "id": "6ee39a8b-ba14-4a4d-aa97-de35e8c7f5f1",
   "metadata": {},
   "outputs": [],
   "source": [
    "w1x1 = w1 * x1\n",
    "w1x1.label = 'w1*x1'"
   ]
  },
  {
   "cell_type": "code",
   "execution_count": 402,
   "id": "16223f88-518a-48d1-86de-87d16fe739f3",
   "metadata": {},
   "outputs": [],
   "source": [
    "w2x2 = w2 * x2\n",
    "w2x2.label = 'w2*x2'"
   ]
  },
  {
   "cell_type": "code",
   "execution_count": 403,
   "id": "becba079-3cc7-47a6-86ce-25b92cfb83f8",
   "metadata": {},
   "outputs": [],
   "source": [
    "wsum = w1x1 + w2x2\n",
    "wsum.label = 'sum'"
   ]
  },
  {
   "cell_type": "code",
   "execution_count": 404,
   "id": "4940603a-a390-4bd2-a7ef-0da95d2d05c7",
   "metadata": {},
   "outputs": [],
   "source": [
    "pre = wsum + b\n",
    "pre.label = 'bias'"
   ]
  },
  {
   "cell_type": "code",
   "execution_count": 405,
   "id": "2f66ce5d-28bd-4634-94a5-c40fde3a5988",
   "metadata": {},
   "outputs": [],
   "source": [
    "y_hat = pre.tanh()\n",
    "y_hat.label = 'yhat'"
   ]
  },
  {
   "cell_type": "code",
   "execution_count": 406,
   "id": "f2eaf289-6158-4568-ab72-e52ea04e5535",
   "metadata": {},
   "outputs": [
    {
     "data": {
      "image/svg+xml": [
       "<?xml version=\"1.0\" encoding=\"UTF-8\" standalone=\"no\"?>\n",
       "<!DOCTYPE svg PUBLIC \"-//W3C//DTD SVG 1.1//EN\"\n",
       " \"http://www.w3.org/Graphics/SVG/1.1/DTD/svg11.dtd\">\n",
       "<!-- Generated by graphviz version 7.1.0 (0)\n",
       " -->\n",
       "<!-- Pages: 1 -->\n",
       "<svg width=\"1560pt\" height=\"210pt\"\n",
       " viewBox=\"0.00 0.00 1560.00 210.00\" xmlns=\"http://www.w3.org/2000/svg\" xmlns:xlink=\"http://www.w3.org/1999/xlink\">\n",
       "<g id=\"graph0\" class=\"graph\" transform=\"scale(1 1) rotate(0) translate(4 206)\">\n",
       "<polygon fill=\"white\" stroke=\"none\" points=\"-4,4 -4,-206 1556,-206 1556,4 -4,4\"/>\n",
       "<!-- 4461073424 -->\n",
       "<g id=\"node1\" class=\"node\">\n",
       "<title>4461073424</title>\n",
       "<polygon fill=\"none\" stroke=\"black\" points=\"1014,-54.5 1014,-90.5 1219,-90.5 1219,-54.5 1014,-54.5\"/>\n",
       "<text text-anchor=\"middle\" x=\"1033\" y=\"-68.8\" font-family=\"Times,serif\" font-size=\"14.00\">bias</text>\n",
       "<polyline fill=\"none\" stroke=\"black\" points=\"1052,-54.5 1052,-90.5\"/>\n",
       "<text text-anchor=\"middle\" x=\"1094.5\" y=\"-68.8\" font-family=\"Times,serif\" font-size=\"14.00\">data &#45;0.7187</text>\n",
       "<polyline fill=\"none\" stroke=\"black\" points=\"1137,-54.5 1137,-90.5\"/>\n",
       "<text text-anchor=\"middle\" x=\"1178\" y=\"-68.8\" font-family=\"Times,serif\" font-size=\"14.00\">grad 0.0000</text>\n",
       "</g>\n",
       "<!-- 4461075024tanh -->\n",
       "<g id=\"node7\" class=\"node\">\n",
       "<title>4461075024tanh</title>\n",
       "<ellipse fill=\"none\" stroke=\"black\" cx=\"1282\" cy=\"-72.5\" rx=\"27\" ry=\"18\"/>\n",
       "<text text-anchor=\"middle\" x=\"1282\" y=\"-68.8\" font-family=\"Times,serif\" font-size=\"14.00\">tanh</text>\n",
       "</g>\n",
       "<!-- 4461073424&#45;&gt;4461075024tanh -->\n",
       "<g id=\"edge7\" class=\"edge\">\n",
       "<title>4461073424&#45;&gt;4461075024tanh</title>\n",
       "<path fill=\"none\" stroke=\"black\" d=\"M1218.72,-72.5C1227.38,-72.5 1235.73,-72.5 1243.35,-72.5\"/>\n",
       "<polygon fill=\"black\" stroke=\"black\" points=\"1243.15,-76 1253.15,-72.5 1243.15,-69 1243.15,-76\"/>\n",
       "</g>\n",
       "<!-- 4461073424+ -->\n",
       "<g id=\"node2\" class=\"node\">\n",
       "<title>4461073424+</title>\n",
       "<ellipse fill=\"none\" stroke=\"black\" cx=\"951\" cy=\"-72.5\" rx=\"27\" ry=\"18\"/>\n",
       "<text text-anchor=\"middle\" x=\"951\" y=\"-68.8\" font-family=\"Times,serif\" font-size=\"14.00\">+</text>\n",
       "</g>\n",
       "<!-- 4461073424+&#45;&gt;4461073424 -->\n",
       "<g id=\"edge1\" class=\"edge\">\n",
       "<title>4461073424+&#45;&gt;4461073424</title>\n",
       "<path fill=\"none\" stroke=\"black\" d=\"M978.27,-72.5C985.59,-72.5 994.02,-72.5 1003.05,-72.5\"/>\n",
       "<polygon fill=\"black\" stroke=\"black\" points=\"1002.79,-76 1012.79,-72.5 1002.79,-69 1002.79,-76\"/>\n",
       "</g>\n",
       "<!-- 4461072912 -->\n",
       "<g id=\"node3\" class=\"node\">\n",
       "<title>4461072912</title>\n",
       "<polygon fill=\"none\" stroke=\"black\" points=\"681,-82.5 681,-118.5 888,-118.5 888,-82.5 681,-82.5\"/>\n",
       "<text text-anchor=\"middle\" x=\"701\" y=\"-96.8\" font-family=\"Times,serif\" font-size=\"14.00\">sum</text>\n",
       "<polyline fill=\"none\" stroke=\"black\" points=\"721,-82.5 721,-118.5\"/>\n",
       "<text text-anchor=\"middle\" x=\"763.5\" y=\"-96.8\" font-family=\"Times,serif\" font-size=\"14.00\">data &#45;7.6000</text>\n",
       "<polyline fill=\"none\" stroke=\"black\" points=\"806,-82.5 806,-118.5\"/>\n",
       "<text text-anchor=\"middle\" x=\"847\" y=\"-96.8\" font-family=\"Times,serif\" font-size=\"14.00\">grad 0.0000</text>\n",
       "</g>\n",
       "<!-- 4461072912&#45;&gt;4461073424+ -->\n",
       "<g id=\"edge10\" class=\"edge\">\n",
       "<title>4461072912&#45;&gt;4461073424+</title>\n",
       "<path fill=\"none\" stroke=\"black\" d=\"M887.81,-83.09C896.75,-81.56 905.35,-80.1 913.16,-78.77\"/>\n",
       "<polygon fill=\"black\" stroke=\"black\" points=\"913.57,-82.25 922.84,-77.12 912.4,-75.35 913.57,-82.25\"/>\n",
       "</g>\n",
       "<!-- 4461072912+ -->\n",
       "<g id=\"node4\" class=\"node\">\n",
       "<title>4461072912+</title>\n",
       "<ellipse fill=\"none\" stroke=\"black\" cx=\"618\" cy=\"-100.5\" rx=\"27\" ry=\"18\"/>\n",
       "<text text-anchor=\"middle\" x=\"618\" y=\"-96.8\" font-family=\"Times,serif\" font-size=\"14.00\">+</text>\n",
       "</g>\n",
       "<!-- 4461072912+&#45;&gt;4461072912 -->\n",
       "<g id=\"edge2\" class=\"edge\">\n",
       "<title>4461072912+&#45;&gt;4461072912</title>\n",
       "<path fill=\"none\" stroke=\"black\" d=\"M645.43,-100.5C652.65,-100.5 660.95,-100.5 669.82,-100.5\"/>\n",
       "<polygon fill=\"black\" stroke=\"black\" points=\"669.82,-104 679.82,-100.5 669.82,-97 669.82,-104\"/>\n",
       "</g>\n",
       "<!-- 4461072400 -->\n",
       "<g id=\"node5\" class=\"node\">\n",
       "<title>4461072400</title>\n",
       "<polygon fill=\"none\" stroke=\"black\" points=\"692,-27.5 692,-63.5 877,-63.5 877,-27.5 692,-27.5\"/>\n",
       "<text text-anchor=\"middle\" x=\"703.5\" y=\"-41.8\" font-family=\"Times,serif\" font-size=\"14.00\">b</text>\n",
       "<polyline fill=\"none\" stroke=\"black\" points=\"715,-27.5 715,-63.5\"/>\n",
       "<text text-anchor=\"middle\" x=\"755\" y=\"-41.8\" font-family=\"Times,serif\" font-size=\"14.00\">data 6.8813</text>\n",
       "<polyline fill=\"none\" stroke=\"black\" points=\"795,-27.5 795,-63.5\"/>\n",
       "<text text-anchor=\"middle\" x=\"836\" y=\"-41.8\" font-family=\"Times,serif\" font-size=\"14.00\">grad 0.0000</text>\n",
       "</g>\n",
       "<!-- 4461072400&#45;&gt;4461073424+ -->\n",
       "<g id=\"edge12\" class=\"edge\">\n",
       "<title>4461072400&#45;&gt;4461073424+</title>\n",
       "<path fill=\"none\" stroke=\"black\" d=\"M876.89,-60.5C889.71,-62.6 902.22,-64.66 913.18,-66.46\"/>\n",
       "<polygon fill=\"black\" stroke=\"black\" points=\"912.46,-69.88 922.89,-68.05 913.59,-62.98 912.46,-69.88\"/>\n",
       "</g>\n",
       "<!-- 4461075024 -->\n",
       "<g id=\"node6\" class=\"node\">\n",
       "<title>4461075024</title>\n",
       "<polygon fill=\"none\" stroke=\"black\" points=\"1345,-54.5 1345,-90.5 1552,-90.5 1552,-54.5 1345,-54.5\"/>\n",
       "<text text-anchor=\"middle\" x=\"1365\" y=\"-68.8\" font-family=\"Times,serif\" font-size=\"14.00\">yhat</text>\n",
       "<polyline fill=\"none\" stroke=\"black\" points=\"1385,-54.5 1385,-90.5\"/>\n",
       "<text text-anchor=\"middle\" x=\"1427.5\" y=\"-68.8\" font-family=\"Times,serif\" font-size=\"14.00\">data &#45;0.6161</text>\n",
       "<polyline fill=\"none\" stroke=\"black\" points=\"1470,-54.5 1470,-90.5\"/>\n",
       "<text text-anchor=\"middle\" x=\"1511\" y=\"-68.8\" font-family=\"Times,serif\" font-size=\"14.00\">grad 0.0000</text>\n",
       "</g>\n",
       "<!-- 4461075024tanh&#45;&gt;4461075024 -->\n",
       "<g id=\"edge3\" class=\"edge\">\n",
       "<title>4461075024tanh&#45;&gt;4461075024</title>\n",
       "<path fill=\"none\" stroke=\"black\" d=\"M1309.43,-72.5C1316.65,-72.5 1324.95,-72.5 1333.82,-72.5\"/>\n",
       "<polygon fill=\"black\" stroke=\"black\" points=\"1333.82,-76 1343.82,-72.5 1333.82,-69 1333.82,-76\"/>\n",
       "</g>\n",
       "<!-- 4461080016 -->\n",
       "<g id=\"node8\" class=\"node\">\n",
       "<title>4461080016</title>\n",
       "<polygon fill=\"none\" stroke=\"black\" points=\"5,-55.5 5,-91.5 197,-91.5 197,-55.5 5,-55.5\"/>\n",
       "<text text-anchor=\"middle\" x=\"20\" y=\"-69.8\" font-family=\"Times,serif\" font-size=\"14.00\">x1</text>\n",
       "<polyline fill=\"none\" stroke=\"black\" points=\"35,-55.5 35,-91.5\"/>\n",
       "<text text-anchor=\"middle\" x=\"75\" y=\"-69.8\" font-family=\"Times,serif\" font-size=\"14.00\">data 2.0000</text>\n",
       "<polyline fill=\"none\" stroke=\"black\" points=\"115,-55.5 115,-91.5\"/>\n",
       "<text text-anchor=\"middle\" x=\"156\" y=\"-69.8\" font-family=\"Times,serif\" font-size=\"14.00\">grad 0.0000</text>\n",
       "</g>\n",
       "<!-- 4461078992* -->\n",
       "<g id=\"node14\" class=\"node\">\n",
       "<title>4461078992*</title>\n",
       "<ellipse fill=\"none\" stroke=\"black\" cx=\"265\" cy=\"-73.5\" rx=\"27\" ry=\"18\"/>\n",
       "<text text-anchor=\"middle\" x=\"265\" y=\"-69.8\" font-family=\"Times,serif\" font-size=\"14.00\">*</text>\n",
       "</g>\n",
       "<!-- 4461080016&#45;&gt;4461078992* -->\n",
       "<g id=\"edge6\" class=\"edge\">\n",
       "<title>4461080016&#45;&gt;4461078992*</title>\n",
       "<path fill=\"none\" stroke=\"black\" d=\"M196.7,-73.5C207.1,-73.5 217.19,-73.5 226.26,-73.5\"/>\n",
       "<polygon fill=\"black\" stroke=\"black\" points=\"226.01,-77 236.01,-73.5 226.01,-70 226.01,-77\"/>\n",
       "</g>\n",
       "<!-- 4450506000 -->\n",
       "<g id=\"node9\" class=\"node\">\n",
       "<title>4450506000</title>\n",
       "<polygon fill=\"none\" stroke=\"black\" points=\"5,-165.5 5,-201.5 197,-201.5 197,-165.5 5,-165.5\"/>\n",
       "<text text-anchor=\"middle\" x=\"20\" y=\"-179.8\" font-family=\"Times,serif\" font-size=\"14.00\">x2</text>\n",
       "<polyline fill=\"none\" stroke=\"black\" points=\"35,-165.5 35,-201.5\"/>\n",
       "<text text-anchor=\"middle\" x=\"75\" y=\"-179.8\" font-family=\"Times,serif\" font-size=\"14.00\">data 3.0000</text>\n",
       "<polyline fill=\"none\" stroke=\"black\" points=\"115,-165.5 115,-201.5\"/>\n",
       "<text text-anchor=\"middle\" x=\"156\" y=\"-179.8\" font-family=\"Times,serif\" font-size=\"14.00\">grad 0.0000</text>\n",
       "</g>\n",
       "<!-- 4461071248* -->\n",
       "<g id=\"node12\" class=\"node\">\n",
       "<title>4461071248*</title>\n",
       "<ellipse fill=\"none\" stroke=\"black\" cx=\"265\" cy=\"-128.5\" rx=\"27\" ry=\"18\"/>\n",
       "<text text-anchor=\"middle\" x=\"265\" y=\"-124.8\" font-family=\"Times,serif\" font-size=\"14.00\">*</text>\n",
       "</g>\n",
       "<!-- 4450506000&#45;&gt;4461071248* -->\n",
       "<g id=\"edge14\" class=\"edge\">\n",
       "<title>4450506000&#45;&gt;4461071248*</title>\n",
       "<path fill=\"none\" stroke=\"black\" d=\"M173.99,-165.56C183.48,-162.75 193.03,-159.71 202,-156.5 212.1,-152.88 222.83,-148.31 232.49,-143.91\"/>\n",
       "<polygon fill=\"black\" stroke=\"black\" points=\"233.88,-147.12 241.46,-139.72 230.92,-140.78 233.88,-147.12\"/>\n",
       "</g>\n",
       "<!-- 4461072336 -->\n",
       "<g id=\"node10\" class=\"node\">\n",
       "<title>4461072336</title>\n",
       "<polygon fill=\"none\" stroke=\"black\" points=\"0,-0.5 0,-36.5 202,-36.5 202,-0.5 0,-0.5\"/>\n",
       "<text text-anchor=\"middle\" x=\"16.5\" y=\"-14.8\" font-family=\"Times,serif\" font-size=\"14.00\">w1</text>\n",
       "<polyline fill=\"none\" stroke=\"black\" points=\"33,-0.5 33,-36.5\"/>\n",
       "<text text-anchor=\"middle\" x=\"76.5\" y=\"-14.8\" font-family=\"Times,serif\" font-size=\"14.00\">data 10.0000</text>\n",
       "<polyline fill=\"none\" stroke=\"black\" points=\"120,-0.5 120,-36.5\"/>\n",
       "<text text-anchor=\"middle\" x=\"161\" y=\"-14.8\" font-family=\"Times,serif\" font-size=\"14.00\">grad 0.0000</text>\n",
       "</g>\n",
       "<!-- 4461072336&#45;&gt;4461078992* -->\n",
       "<g id=\"edge9\" class=\"edge\">\n",
       "<title>4461072336&#45;&gt;4461078992*</title>\n",
       "<path fill=\"none\" stroke=\"black\" d=\"M173.99,-36.44C183.48,-39.25 193.03,-42.29 202,-45.5 212.1,-49.12 222.83,-53.69 232.49,-58.09\"/>\n",
       "<polygon fill=\"black\" stroke=\"black\" points=\"230.92,-61.22 241.46,-62.28 233.88,-54.88 230.92,-61.22\"/>\n",
       "</g>\n",
       "<!-- 4461071248 -->\n",
       "<g id=\"node11\" class=\"node\">\n",
       "<title>4461071248</title>\n",
       "<polygon fill=\"none\" stroke=\"black\" points=\"328,-110.5 328,-146.5 555,-146.5 555,-110.5 328,-110.5\"/>\n",
       "<text text-anchor=\"middle\" x=\"354.5\" y=\"-124.8\" font-family=\"Times,serif\" font-size=\"14.00\">w2*x2</text>\n",
       "<polyline fill=\"none\" stroke=\"black\" points=\"381,-110.5 381,-146.5\"/>\n",
       "<text text-anchor=\"middle\" x=\"427\" y=\"-124.8\" font-family=\"Times,serif\" font-size=\"14.00\">data &#45;27.6000</text>\n",
       "<polyline fill=\"none\" stroke=\"black\" points=\"473,-110.5 473,-146.5\"/>\n",
       "<text text-anchor=\"middle\" x=\"514\" y=\"-124.8\" font-family=\"Times,serif\" font-size=\"14.00\">grad 0.0000</text>\n",
       "</g>\n",
       "<!-- 4461071248&#45;&gt;4461072912+ -->\n",
       "<g id=\"edge8\" class=\"edge\">\n",
       "<title>4461071248&#45;&gt;4461072912+</title>\n",
       "<path fill=\"none\" stroke=\"black\" d=\"M554.49,-110.53C563.57,-109.07 572.26,-107.68 580.12,-106.42\"/>\n",
       "<polygon fill=\"black\" stroke=\"black\" points=\"580.55,-109.89 589.86,-104.85 579.44,-102.98 580.55,-109.89\"/>\n",
       "</g>\n",
       "<!-- 4461071248*&#45;&gt;4461071248 -->\n",
       "<g id=\"edge4\" class=\"edge\">\n",
       "<title>4461071248*&#45;&gt;4461071248</title>\n",
       "<path fill=\"none\" stroke=\"black\" d=\"M292.12,-128.5C299.42,-128.5 307.87,-128.5 316.96,-128.5\"/>\n",
       "<polygon fill=\"black\" stroke=\"black\" points=\"316.81,-132 326.81,-128.5 316.81,-125 316.81,-132\"/>\n",
       "</g>\n",
       "<!-- 4461078992 -->\n",
       "<g id=\"node13\" class=\"node\">\n",
       "<title>4461078992</title>\n",
       "<polygon fill=\"none\" stroke=\"black\" points=\"330.5,-55.5 330.5,-91.5 552.5,-91.5 552.5,-55.5 330.5,-55.5\"/>\n",
       "<text text-anchor=\"middle\" x=\"357\" y=\"-69.8\" font-family=\"Times,serif\" font-size=\"14.00\">w1*x1</text>\n",
       "<polyline fill=\"none\" stroke=\"black\" points=\"383.5,-55.5 383.5,-91.5\"/>\n",
       "<text text-anchor=\"middle\" x=\"427\" y=\"-69.8\" font-family=\"Times,serif\" font-size=\"14.00\">data 20.0000</text>\n",
       "<polyline fill=\"none\" stroke=\"black\" points=\"470.5,-55.5 470.5,-91.5\"/>\n",
       "<text text-anchor=\"middle\" x=\"511.5\" y=\"-69.8\" font-family=\"Times,serif\" font-size=\"14.00\">grad 0.0000</text>\n",
       "</g>\n",
       "<!-- 4461078992&#45;&gt;4461072912+ -->\n",
       "<g id=\"edge11\" class=\"edge\">\n",
       "<title>4461078992&#45;&gt;4461072912+</title>\n",
       "<path fill=\"none\" stroke=\"black\" d=\"M552.02,-90.45C561.89,-91.97 571.35,-93.44 579.85,-94.75\"/>\n",
       "<polygon fill=\"black\" stroke=\"black\" points=\"579.26,-98.2 589.67,-96.27 580.33,-91.28 579.26,-98.2\"/>\n",
       "</g>\n",
       "<!-- 4461078992*&#45;&gt;4461078992 -->\n",
       "<g id=\"edge5\" class=\"edge\">\n",
       "<title>4461078992*&#45;&gt;4461078992</title>\n",
       "<path fill=\"none\" stroke=\"black\" d=\"M292.12,-73.5C300,-73.5 309.21,-73.5 319.12,-73.5\"/>\n",
       "<polygon fill=\"black\" stroke=\"black\" points=\"319.05,-77 329.05,-73.5 319.05,-70 319.05,-77\"/>\n",
       "</g>\n",
       "<!-- 4461069200 -->\n",
       "<g id=\"node15\" class=\"node\">\n",
       "<title>4461069200</title>\n",
       "<polygon fill=\"none\" stroke=\"black\" points=\"1,-110.5 1,-146.5 201,-146.5 201,-110.5 1,-110.5\"/>\n",
       "<text text-anchor=\"middle\" x=\"17.5\" y=\"-124.8\" font-family=\"Times,serif\" font-size=\"14.00\">w2</text>\n",
       "<polyline fill=\"none\" stroke=\"black\" points=\"34,-110.5 34,-146.5\"/>\n",
       "<text text-anchor=\"middle\" x=\"76.5\" y=\"-124.8\" font-family=\"Times,serif\" font-size=\"14.00\">data &#45;9.2000</text>\n",
       "<polyline fill=\"none\" stroke=\"black\" points=\"119,-110.5 119,-146.5\"/>\n",
       "<text text-anchor=\"middle\" x=\"160\" y=\"-124.8\" font-family=\"Times,serif\" font-size=\"14.00\">grad 0.0000</text>\n",
       "</g>\n",
       "<!-- 4461069200&#45;&gt;4461071248* -->\n",
       "<g id=\"edge13\" class=\"edge\">\n",
       "<title>4461069200&#45;&gt;4461071248*</title>\n",
       "<path fill=\"none\" stroke=\"black\" d=\"M200.9,-128.5C209.83,-128.5 218.45,-128.5 226.3,-128.5\"/>\n",
       "<polygon fill=\"black\" stroke=\"black\" points=\"226.05,-132 236.05,-128.5 226.05,-125 226.05,-132\"/>\n",
       "</g>\n",
       "</g>\n",
       "</svg>\n"
      ],
      "text/plain": [
       "<graphviz.graphs.Digraph at 0x109e68c90>"
      ]
     },
     "execution_count": 406,
     "metadata": {},
     "output_type": "execute_result"
    }
   ],
   "source": [
    "draw_dot(y_hat)"
   ]
  },
  {
   "cell_type": "code",
   "execution_count": 407,
   "id": "ad1cb8bc-5d21-4b48-98bb-cf0b8c0995db",
   "metadata": {},
   "outputs": [],
   "source": [
    "y_hat.backward()"
   ]
  },
  {
   "cell_type": "code",
   "execution_count": 408,
   "id": "e0657591-1a6f-4410-b5e9-8e572f429c92",
   "metadata": {},
   "outputs": [],
   "source": [
    "class Neuron:\n",
    "    def __init__(self,nin):\n",
    "        self.w = [Value(np.random.uniform(-1,1)) for _ in range(nin)]\n",
    "        self.b = Value(np.random.uniform(-1,1))\n",
    "        \n",
    "    def __call__(self,x):\n",
    "        # w*x + b\n",
    "        act = sum((wi*xi for wi,xi in zip(self.w, x)), self.b)\n",
    "        out = act.tanh()\n",
    "        return out\n",
    "\n",
    "class Layer:\n",
    "    def __init__(self,nin,nout):\n",
    "        self.neurons = [Neuron(nin) for _ in range(nout)]\n",
    "        \n",
    "    def __call__(self,x):\n",
    "        outs = [n(x) for n in self.neurons]\n",
    "        return outs[0] if len(outs) == 1 else outs\n",
    "\n",
    "class MLP:\n",
    "    def __init__(self,nin,nouts):\n",
    "        sz = [nin] + nouts\n",
    "        self.layers = [Layer(sz[i],sz[i+1]) for i in range(len(nouts))]\n",
    "    \n",
    "    def __call__(self,x):\n",
    "        for layer in self.layers:\n",
    "            x = layer(x)\n",
    "        return x"
   ]
  },
  {
   "cell_type": "code",
   "execution_count": 409,
   "id": "06e9e1c0-953b-424a-b67e-7fef7688ccb0",
   "metadata": {},
   "outputs": [
    {
     "data": {
      "text/plain": [
       "Value(-0.189247641003056)"
      ]
     },
     "execution_count": 409,
     "metadata": {},
     "output_type": "execute_result"
    }
   ],
   "source": [
    "x = [2.0,3.0,10.0]\n",
    "n = MLP(3,[4,4,1])\n",
    "n(x)"
   ]
  },
  {
   "cell_type": "code",
   "execution_count": 410,
   "id": "210bc855-41e3-4a57-8ea9-bcf05978f215",
   "metadata": {},
   "outputs": [],
   "source": [
    "xs=[\n",
    "    [2.0,3.0,-1.0],\n",
    "    [3.0,3.0,4.0],\n",
    "    [4.0,2.0,1.5],\n",
    "    [5.5,3.5,2.5]\n",
    "]\n",
    "ys = [1.0,-1.0,-1.0,1.0]"
   ]
  },
  {
   "cell_type": "code",
   "execution_count": 411,
   "id": "eed53ba5-a759-4886-990f-59cf38faba5d",
   "metadata": {},
   "outputs": [],
   "source": [
    "ypred = [n(x) for x in xs]"
   ]
  },
  {
   "cell_type": "code",
   "execution_count": 412,
   "id": "b48307c4-edba-49f8-9608-92106309700b",
   "metadata": {},
   "outputs": [
    {
     "data": {
      "text/plain": [
       "[Value(-0.7992534531276019),\n",
       " Value(-0.196930435718331),\n",
       " Value(-0.22037614995896956),\n",
       " Value(-0.20664906250625192)]"
      ]
     },
     "execution_count": 412,
     "metadata": {},
     "output_type": "execute_result"
    }
   ],
   "source": [
    "ypred"
   ]
  },
  {
   "cell_type": "code",
   "execution_count": 413,
   "id": "a1df9221-c3ff-41f8-8c69-84afd57182c0",
   "metadata": {},
   "outputs": [
    {
     "name": "stdout",
     "output_type": "stream",
     "text": [
      "1.0\n",
      "Value(-0.7992534531276019)\n",
      "-1.0\n",
      "Value(-0.196930435718331)\n",
      "-1.0\n",
      "Value(-0.22037614995896956)\n",
      "1.0\n",
      "Value(-0.20664906250625192)\n"
     ]
    }
   ],
   "source": [
    "for ygt,yout in zip(ys,ypred):\n",
    "    print(ygt)\n",
    "    print(yout)"
   ]
  },
  {
   "cell_type": "code",
   "execution_count": 415,
   "id": "98c570d9-c201-4ef0-975f-b08bf984a727",
   "metadata": {},
   "outputs": [
    {
     "ename": "TypeError",
     "evalue": "unsupported operand type(s) for +: 'int' and 'Value'",
     "output_type": "error",
     "traceback": [
      "\u001b[0;31m---------------------------------------------------------------------------\u001b[0m",
      "\u001b[0;31mTypeError\u001b[0m                                 Traceback (most recent call last)",
      "Cell \u001b[0;32mIn[415], line 1\u001b[0m\n\u001b[0;32m----> 1\u001b[0m loss \u001b[38;5;241m=\u001b[39m \u001b[38;5;28;43msum\u001b[39;49m\u001b[43m(\u001b[49m\u001b[43m(\u001b[49m\u001b[43myout\u001b[49m\u001b[38;5;241;43m-\u001b[39;49m\u001b[43mygt\u001b[49m\u001b[43m)\u001b[49m\u001b[38;5;241;43m*\u001b[39;49m\u001b[38;5;241;43m*\u001b[39;49m\u001b[38;5;241;43m2\u001b[39;49m\u001b[43m \u001b[49m\u001b[38;5;28;43;01mfor\u001b[39;49;00m\u001b[43m \u001b[49m\u001b[43mygt\u001b[49m\u001b[43m,\u001b[49m\u001b[43myout\u001b[49m\u001b[43m \u001b[49m\u001b[38;5;129;43;01min\u001b[39;49;00m\u001b[43m \u001b[49m\u001b[38;5;28;43mzip\u001b[39;49m\u001b[43m(\u001b[49m\u001b[43mys\u001b[49m\u001b[43m,\u001b[49m\u001b[43mypred\u001b[49m\u001b[43m)\u001b[49m\u001b[43m)\u001b[49m\n",
      "\u001b[0;31mTypeError\u001b[0m: unsupported operand type(s) for +: 'int' and 'Value'"
     ]
    }
   ],
   "source": [
    "loss = sum((yout-ygt)**2 for ygt,yout in zip(ys,ypred))"
   ]
  },
  {
   "cell_type": "code",
   "execution_count": null,
   "id": "1afab147-bcbe-4da9-985b-40f2b48f3ce4",
   "metadata": {},
   "outputs": [],
   "source": [
    "draw_dot(loss)"
   ]
  },
  {
   "cell_type": "code",
   "execution_count": 417,
   "id": "fa36eb43-e9c4-47f3-aa1c-c57221837f4a",
   "metadata": {},
   "outputs": [
    {
     "name": "stdout",
     "output_type": "stream",
     "text": [
      "1.0\n",
      "Value(-0.7992534531276019)\n",
      "-1.0\n",
      "Value(-0.196930435718331)\n",
      "-1.0\n",
      "Value(-0.22037614995896956)\n",
      "1.0\n",
      "Value(-0.20664906250625192)\n"
     ]
    }
   ],
   "source": [
    "for ygt,yout in zip(ys,ypred):\n",
    "    print(ygt)\n",
    "    print(yout)"
   ]
  },
  {
   "cell_type": "code",
   "execution_count": null,
   "id": "12c7fdf5-fef2-4d02-bc9b-6cc75babf2a6",
   "metadata": {},
   "outputs": [],
   "source": []
  }
 ],
 "metadata": {
  "kernelspec": {
   "display_name": "Python 3 (ipykernel)",
   "language": "python",
   "name": "python3"
  },
  "language_info": {
   "codemirror_mode": {
    "name": "ipython",
    "version": 3
   },
   "file_extension": ".py",
   "mimetype": "text/x-python",
   "name": "python",
   "nbconvert_exporter": "python",
   "pygments_lexer": "ipython3",
   "version": "3.11.0"
  }
 },
 "nbformat": 4,
 "nbformat_minor": 5
}
